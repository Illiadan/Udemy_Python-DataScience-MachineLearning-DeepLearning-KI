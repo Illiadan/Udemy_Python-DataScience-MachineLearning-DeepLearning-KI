{
 "cells": [
  {
   "cell_type": "code",
   "execution_count": 6,
   "metadata": {},
   "outputs": [],
   "source": [
    "%matplotlib inline\n",
    "\n",
    "import numpy as np\n",
    "import matplotlib.pyplot as plt"
   ]
  },
  {
   "cell_type": "code",
   "execution_count": 3,
   "metadata": {},
   "outputs": [
    {
     "name": "stdout",
     "output_type": "stream",
     "text": [
      "[-1, 0, 1, 2, 3, 4, 5, 6, 7, 8]\n"
     ]
    }
   ],
   "source": [
    "x = [1,2,3,4,5,6,7,8,9,10]\n",
    "y = [i - 2 for i in x]\n",
    "print(y)"
   ]
  },
  {
   "cell_type": "code",
   "execution_count": 7,
   "metadata": {},
   "outputs": [
    {
     "name": "stdout",
     "output_type": "stream",
     "text": [
      "[ 1  2  3  4  5  6  7  8  9 10]\n",
      "[-1  0  1  2  3  4  5  6  7  8]\n"
     ]
    }
   ],
   "source": [
    "x = np.array([1,2,3,4,5,6,7,8,9,10])\n",
    "print(x)\n",
    "\n",
    "y = x-2\n",
    "print(y)"
   ]
  },
  {
   "cell_type": "code",
   "execution_count": 9,
   "metadata": {},
   "outputs": [
    {
     "data": {
      "image/png": "[encoded data removed]",
      "text/plain": [
       "<Figure size 640x480 with 1 Axes>"
      ]
     },
     "metadata": {},
     "output_type": "display_data"
    }
   ],
   "source": [
    "x = np.arange(-3,3,0.1)\n",
    "y = x ** 3 - x ** 2 + 6\n",
    "\n",
    "plt.plot(x, y)\n",
    "plt.show()"
   ]
  },
  {
   "cell_type": "code",
   "execution_count": 14,
   "metadata": {},
   "outputs": [
    {
     "name": "stdout",
     "output_type": "stream",
     "text": [
      "[[1 2 3 4 5]\n",
      " [1 2 3 4 5]\n",
      " [4 5 6 7 8]]\n",
      "(3, 5)\n"
     ]
    }
   ],
   "source": [
    "x = np.array(([\n",
    "    [1,2,3,4,5], \n",
    "    [1,2,3,4,5], \n",
    "    [4,5,6,7,8]\n",
    "    ]))\n",
    "\n",
    "print(x)\n",
    "print(x.shape)"
   ]
  },
  {
   "cell_type": "code",
   "execution_count": 15,
   "metadata": {},
   "outputs": [
    {
     "name": "stdout",
     "output_type": "stream",
     "text": [
      "[1 2 3 4 5 1 2 3 4 5 4 5 6 7 8]\n",
      "[1 2 3 4 5 1 2 3 4 5 4 5 6 7 8]\n",
      "[[1 2 3]\n",
      " [4 5 1]\n",
      " [2 3 4]\n",
      " [5 4 5]\n",
      " [6 7 8]]\n",
      "[[1 2 3]\n",
      " [4 5 1]\n",
      " [2 3 4]\n",
      " [5 4 5]\n",
      " [6 7 8]]\n",
      "[[1 2 3]\n",
      " [4 5 1]\n",
      " [2 3 4]\n",
      " [5 4 5]\n",
      " [6 7 8]]\n",
      "[[1]\n",
      " [2]\n",
      " [3]\n",
      " [4]\n",
      " [5]\n",
      " [1]\n",
      " [2]\n",
      " [3]\n",
      " [4]\n",
      " [5]\n",
      " [4]\n",
      " [5]\n",
      " [6]\n",
      " [7]\n",
      " [8]]\n"
     ]
    }
   ],
   "source": [
    "print(x.reshape(15))\n",
    "print(x.reshape(-1))\n",
    "\n",
    "print(x.reshape((5, 3)))\n",
    "print(x.reshape((-1, 3)))\n",
    "print(x.reshape((5, -1)))\n",
    "\n",
    "print(x.reshape((-1, 1)))"
   ]
  },
  {
   "cell_type": "code",
   "execution_count": null,
   "metadata": {},
   "outputs": [
    {
     "name": "stdout",
     "output_type": "stream",
     "text": [
      "1\n",
      "8\n",
      "4.0\n",
      "[1 2 3 4 5]\n",
      "[1 1 4]\n",
      "[4 5 6 7 8]\n",
      "[5 5 8]\n",
      "[2. 3. 4. 5. 6.]\n",
      "[3. 3. 6.]\n"
     ]
    }
   ],
   "source": [
    "print(x.min())\n",
    "print(x.max())\n",
    "print(x.mean())\n",
    "\n",
    "print(x.min(axis=0))\n",
    "print(x.min(axis=1))\n",
    "print(x.max(axis=0))\n",
    "print(x.max(axis=1))\n",
    "print(x.mean(axis=0))\n",
    "print(x.mean(axis=1))\n",
    "\n",
    "y = x.reshape(-1)\n",
    "print(y.argmin())\n",
    "print(y.argmax())"
   ]
  }
 ],
 "metadata": {
  "kernelspec": {
   "display_name": "Python 3",
   "language": "python",
   "name": "python3"
  },
  "language_info": {
   "codemirror_mode": {
    "name": "ipython",
    "version": 3
   },
   "file_extension": ".py",
   "mimetype": "text/x-python",
   "name": "python",
   "nbconvert_exporter": "python",
   "pygments_lexer": "ipython3",
   "version": "3.9.0"
  }
 },
 "nbformat": 4,
 "nbformat_minor": 2
}
